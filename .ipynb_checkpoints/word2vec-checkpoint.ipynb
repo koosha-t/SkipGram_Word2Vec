{
 "cells": [
  {
   "cell_type": "markdown",
   "metadata": {},
   "source": [
    "### Reading Data"
   ]
  },
  {
   "cell_type": "code",
   "execution_count": 1,
   "metadata": {},
   "outputs": [],
   "source": [
    "import ndjson\n",
    "import numpy as np\n",
    "import random"
   ]
  },
  {
   "cell_type": "code",
   "execution_count": 2,
   "metadata": {},
   "outputs": [],
   "source": [
    "with open(\"data/Tools_and_Home_Improvement_5.json\") as f:\n",
    "    data = ndjson.load(f)"
   ]
  },
  {
   "cell_type": "code",
   "execution_count": 3,
   "metadata": {},
   "outputs": [
    {
     "data": {
      "text/plain": [
       "[{'overall': 5.0,\n",
       "  'verified': True,\n",
       "  'reviewTime': '01 28, 2018',\n",
       "  'reviewerID': 'AL19QO4XLBQPU',\n",
       "  'asin': '0982085028',\n",
       "  'style': {'Style:': ' 1) IR30 POU (30A/3.4kW/110v)'},\n",
       "  'reviewerName': 'J. Mollenkamp',\n",
       "  'reviewText': 'returned, decided against this product',\n",
       "  'summary': 'Five Stars',\n",
       "  'unixReviewTime': 1517097600},\n",
       " {'overall': 5.0,\n",
       "  'verified': True,\n",
       "  'reviewTime': '11 30, 2017',\n",
       "  'reviewerID': 'A1I7CVB7X3T81E',\n",
       "  'asin': '0982085028',\n",
       "  'style': {'Style:': ' 3) IR260 POU (30A/6kW/220v)'},\n",
       "  'reviewerName': 'warfam',\n",
       "  'reviewText': 'Awesome heater for the electrical requirements! Makes an awesome preheater for my talnkless system',\n",
       "  'summary': 'Five Stars',\n",
       "  'unixReviewTime': 1512000000}]"
      ]
     },
     "execution_count": 3,
     "metadata": {},
     "output_type": "execute_result"
    }
   ],
   "source": [
    "data[:2]"
   ]
  },
  {
   "cell_type": "code",
   "execution_count": 4,
   "metadata": {},
   "outputs": [
    {
     "data": {
      "text/plain": [
       "2070831"
      ]
     },
     "execution_count": 4,
     "metadata": {},
     "output_type": "execute_result"
    }
   ],
   "source": [
    "len(data)"
   ]
  },
  {
   "cell_type": "code",
   "execution_count": 5,
   "metadata": {},
   "outputs": [],
   "source": [
    "review_texts = [rev['reviewText'] for rev in data if 'reviewText' in rev.keys()]"
   ]
  },
  {
   "cell_type": "code",
   "execution_count": 6,
   "metadata": {},
   "outputs": [
    {
     "data": {
      "text/plain": [
       "2070309"
      ]
     },
     "execution_count": 6,
     "metadata": {},
     "output_type": "execute_result"
    }
   ],
   "source": [
    "len(review_texts)"
   ]
  },
  {
   "cell_type": "code",
   "execution_count": 7,
   "metadata": {},
   "outputs": [
    {
     "data": {
      "text/plain": [
       "['Good for overflow filter. Works good. White is easy to see how dirty it is. Like that fact. Works better than the course one, for catching finer particles. 100% satisfied. Will buy it again.',\n",
       " 'Super fast and easy to install.',\n",
       " 'I used these to hold the solar panel onto the roof of my cargo trailer.  It was a pretty straight forward installation and holds the solar panel in place nicely.',\n",
       " 'Was a little skeptical at first . a flow heater is a different creature than a tank but after a few lessons on how to get hot water I had to turn the beast down !  If it lasts with out service problems this will be the best buy of the year on Amazon . congrats to the designer',\n",
       " 'I bought this for my neighbor and he loves it. Came exactly as described, very sturdy.']"
      ]
     },
     "execution_count": 7,
     "metadata": {},
     "output_type": "execute_result"
    }
   ],
   "source": [
    "review_texts[10:15]"
   ]
  },
  {
   "cell_type": "code",
   "execution_count": 8,
   "metadata": {},
   "outputs": [
    {
     "data": {
      "text/plain": [
       "'Good for overflow filter. Works good. White is easy to see how dirty it is. Like that fact. Works better than the course one, for catching finer particles. 100% satisfied. Will buy it again. Super fast and easy to install. I used these to hold the solar panel onto the roof of my cargo trailer.  It was a pretty straight forward installation and holds the solar panel in place nicely. Was a little skeptical at first . a flow heater is a different creature than a tank but after a few lessons on how to get hot water I had to turn the beast down !  If it lasts with out service problems this will be the best buy of the year on Amazon . congrats to the designer I bought this for my neighbor and he loves it. Came exactly as described, very sturdy.'"
      ]
     },
     "execution_count": 8,
     "metadata": {},
     "output_type": "execute_result"
    }
   ],
   "source": [
    "' '.join(review_texts[10:15])"
   ]
  },
  {
   "cell_type": "markdown",
   "metadata": {},
   "source": [
    "### Text Preprocessing"
   ]
  },
  {
   "cell_type": "code",
   "execution_count": 9,
   "metadata": {},
   "outputs": [],
   "source": [
    "import re\n",
    "from collections import Counter"
   ]
  },
  {
   "cell_type": "code",
   "execution_count": 10,
   "metadata": {},
   "outputs": [
    {
     "name": "stdout",
     "output_type": "stream",
     "text": [
      "!\"#$%&'()*+,-./:;<=>?@[\\]^_`{|}~\n"
     ]
    }
   ],
   "source": [
    "import string\n",
    "print(string.punctuation)"
   ]
  },
  {
   "cell_type": "code",
   "execution_count": 11,
   "metadata": {},
   "outputs": [],
   "source": [
    "class TextPreProcessor:\n",
    "    def __init__(self, text, min_occ=1):\n",
    "        \n",
    "        self.text = text.lower()\n",
    "        self.min_occ = min_occ\n",
    "        \n",
    "        #Replacing punctuations with tokens\n",
    "        self.text = self.text.replace('.', ' <PERIOD> ')\n",
    "        self.text = self.text.replace(',', ' <COMMA> ')\n",
    "        self.text = self.text.replace('\"', ' <QUOTATION_MARK> ')\n",
    "        self.text = self.text.replace(';', ' <SEMICOLON> ')\n",
    "        self.text = self.text.replace('!', ' <EXCLAMATION_MARK> ')\n",
    "        self.text = self.text.replace('?', ' <QUESTION_MARK> ')\n",
    "        self.text = self.text.replace('(', ' <LEFT_PAREN> ')\n",
    "        self.text = self.text.replace(')', ' <RIGHT_PAREN> ')\n",
    "        self.text = self.text.replace('--', ' <HYPHENS> ')\n",
    "        self.text = self.text.replace('?', ' <QUESTION_MARK> ')\n",
    "        self.text = self.text.replace(':', ' <COLON> ')\n",
    "        self.text = self.text.replace('%', ' <PERCENTAGE> ')\n",
    "        self.text = self.text.replace('#', ' <NUMBERSIGN> ')\n",
    "        \n",
    "        self.words = self.text.split()\n",
    "        self.word_counts = Counter(self.words)\n",
    "        self.words = [word for word in self.words if self.word_counts[word] >= self.min_occ]\n",
    "    \n",
    "        \n",
    "    \n",
    "    def lookup_tables(self):\n",
    "        vocabs = sorted(self.word_counts, key=self.word_counts.get, reverse=True)\n",
    "        \n",
    "        vocabs = [word for word in vocabs if self.word_counts[word] >= self.min_occ]\n",
    "        \n",
    "        int_to_vocab = {ii:vv for ii,vv in enumerate(vocabs)} \n",
    "        vocab_to_int = {vv:ii for ii,vv in int_to_vocab.items()}\n",
    "        \n",
    "        return int_to_vocab, vocab_to_int\n",
    "        "
   ]
  },
  {
   "cell_type": "code",
   "execution_count": 13,
   "metadata": {},
   "outputs": [],
   "source": [
    "tp = TextPreProcessor(' '.join(review_texts), 5)\n",
    "int_to_vocab , vocab_to_int = tp.lookup_tables()\n",
    "valid_words = [vocab_to_int[word] for word in tp.words] "
   ]
  },
  {
   "cell_type": "code",
   "execution_count": 14,
   "metadata": {},
   "outputs": [
    {
     "data": {
      "text/plain": [
       "True"
      ]
     },
     "execution_count": 14,
     "metadata": {},
     "output_type": "execute_result"
    }
   ],
   "source": [
    "len(int_to_vocab) == len(vocab_to_int)"
   ]
  },
  {
   "cell_type": "code",
   "execution_count": 15,
   "metadata": {},
   "outputs": [
    {
     "data": {
      "text/plain": [
       "76278"
      ]
     },
     "execution_count": 15,
     "metadata": {},
     "output_type": "execute_result"
    }
   ],
   "source": [
    "len(int_to_vocab)"
   ]
  },
  {
   "cell_type": "code",
   "execution_count": null,
   "metadata": {},
   "outputs": [],
   "source": [
    "processed_reviews = [TextPreProcessor(rev).text.split() for rev in review_texts]\n",
    "docs = [[vocab_to_int[v] for v in rev if v in vocab_to_int] for rev in processed_reviews]"
   ]
  },
  {
   "cell_type": "code",
   "execution_count": null,
   "metadata": {},
   "outputs": [],
   "source": [
    "docs[:3]"
   ]
  },
  {
   "cell_type": "markdown",
   "metadata": {},
   "source": [
    "### Subsampling"
   ]
  },
  {
   "cell_type": "code",
   "execution_count": null,
   "metadata": {},
   "outputs": [],
   "source": [
    "from collections import Counter\n",
    "import numpy as np\n",
    "\n",
    "def get_discard_prob(words, tr=1e-5):\n",
    "    words_count = Counter(words)\n",
    "    words_freq = {w:words_count[w]/len(words) for w in words}\n",
    "    discard_prob = {w:1-np.sqrt(tr/words_freq[w]) for w in words}\n",
    "    \n",
    "    return discard_prob\n",
    "    "
   ]
  },
  {
   "cell_type": "code",
   "execution_count": null,
   "metadata": {},
   "outputs": [],
   "source": [
    "discard_prob = get_discard_prob(valid_words)"
   ]
  },
  {
   "cell_type": "code",
   "execution_count": null,
   "metadata": {},
   "outputs": [],
   "source": [
    "len(discard_prob)"
   ]
  },
  {
   "cell_type": "markdown",
   "metadata": {},
   "source": [
    "### Making and Generating Batchevalid_words"
   ]
  },
  {
   "cell_type": "code",
   "execution_count": null,
   "metadata": {},
   "outputs": [],
   "source": [
    "def get_target(words, idx, max_window_size = 5):\n",
    "    window_size = np.random.randint(1, max_window_size+1)\n",
    "    start = idx - window_size if idx>= window_size else 0\n",
    "    stop = idx + window_size\n",
    "    targets = words[start:idx] + words[idx+1:stop+1]\n",
    "    return targets"
   ]
  },
  {
   "cell_type": "code",
   "execution_count": null,
   "metadata": {},
   "outputs": [],
   "source": [
    "def get_batches(docs, batch_size = 32, window_size = 5):\n",
    "   \n",
    "    for doc in docs:\n",
    "        doc = [word for word in doc if np.random.random() > discard_prob[word]]\n",
    "        n_batch = len(doc) // batch_size\n",
    "        words = doc[:n_batch*batch_size]\n",
    "\n",
    "        for batch_id in range(n_batch):\n",
    "            x,y = [],[]\n",
    "            start = batch_id*batch_size\n",
    "            stop = start + batch_size\n",
    "            window = words[start:stop]\n",
    "            for idx in range(batch_size):\n",
    "                targets = get_target(window, idx, max_window_size=window_size)\n",
    "                y.extend(targets)\n",
    "                x.extend([window[idx]]*len(targets))\n",
    "            yield x,y"
   ]
  },
  {
   "cell_type": "code",
   "execution_count": null,
   "metadata": {},
   "outputs": [],
   "source": [
    "int_text = [[i for i in range(20)],[j for j in range(30,40)]]"
   ]
  },
  {
   "cell_type": "code",
   "execution_count": null,
   "metadata": {},
   "outputs": [],
   "source": [
    "batch_generator = get_batches(int_text, batch_size=6, window_size=5)"
   ]
  },
  {
   "cell_type": "code",
   "execution_count": null,
   "metadata": {},
   "outputs": [],
   "source": [
    "#for x,y in get_batches(int_text, batch_size=6, window_size=5):\n",
    "#    print('x\\n',x)\n",
    "#    print('y\\n',y)\n",
    "\n",
    "#while(next(batch_generator, None)):\n",
    "#    print('x\\n', x)\n",
    "#    print('y\\n', y)"
   ]
  },
  {
   "cell_type": "code",
   "execution_count": null,
   "metadata": {},
   "outputs": [],
   "source": []
  },
  {
   "cell_type": "markdown",
   "metadata": {},
   "source": [
    "### Word-Embedding Model"
   ]
  },
  {
   "cell_type": "code",
   "execution_count": null,
   "metadata": {},
   "outputs": [],
   "source": [
    "import torch\n",
    "from torch import nn\n",
    "from torch import optim\n",
    "import torch.nn.functional as F"
   ]
  },
  {
   "cell_type": "code",
   "execution_count": null,
   "metadata": {},
   "outputs": [],
   "source": [
    "class Word2VevModel(nn.Module):\n",
    "    def __init__(self, n_vocab, emvec_size):\n",
    "        super().__init__()\n",
    "        self.n_vocab = n_vocab\n",
    "        self.emvec_size = emvec_size\n",
    "        \n",
    "        self.embedding = nn.Embedding(num_embeddings=n_vocab, embedding_dim=emvec_size)\n",
    "        self.outLayer = nn.Linear(emvec_size, n_vocab)\n",
    "        self.softmax = nn.LogSoftmax(dim=1)\n",
    "        \n",
    "    def forward(self,x):\n",
    "        emVectors = self.embedding(x)\n",
    "        scores = self.outLayer(emVectors)\n",
    "        log_probs = self.softmax(scores)\n",
    "        \n",
    "        return log_probs\n",
    "        "
   ]
  },
  {
   "cell_type": "markdown",
   "metadata": {},
   "source": [
    "### Validation"
   ]
  },
  {
   "cell_type": "code",
   "execution_count": null,
   "metadata": {},
   "outputs": [],
   "source": [
    "def cosine_similarity(embedding, val_size=32, device='cpu'):\n",
    "    embed_vectors = embedding.weight\n",
    "    \n",
    "    magnitudes = embed_vectors.pow(2).sum(dim=1).sqrt()\n",
    "    \n",
    "    # pick N words from our ranges (0,window) and (1000,1000+window). lower id implies more frequent \n",
    "    val_examples = np.array(random.sample(range(100), val_size//2))\n",
    "    val_examples = np.append(val_examples, np.array(random.sample(range(1000,1100), val_size//2)))\n",
    "    \n",
    "    val_examples = torch.LongTensor(val_examples).to(device)\n",
    "    \n",
    "    val_vectors = embedding(val_examples)\n",
    "    \n",
    "    similarities = torch.mm(val_vectors, embed_vectors.t()) / magnitudes\n",
    "    \n",
    "    return val_examples, similarities"
   ]
  },
  {
   "cell_type": "markdown",
   "metadata": {},
   "source": [
    "### Training"
   ]
  },
  {
   "cell_type": "code",
   "execution_count": null,
   "metadata": {},
   "outputs": [],
   "source": [
    "device = 'cuda' if torch.cuda.is_available() else 'cpu'\n",
    "emsize = 300\n",
    "epochs = 50\n",
    "n_vocab = len(int_to_vocab)\n",
    "model = Word2VevModel(n_vocab=n_vocab, emvec_size=emsize).to(device)\n",
    "criterion = nn.NLLLoss()\n",
    "optimizer = optim.Adam(model.parameters(), lr = 0.001)"
   ]
  },
  {
   "cell_type": "code",
   "execution_count": null,
   "metadata": {},
   "outputs": [],
   "source": [
    "print(model)"
   ]
  },
  {
   "cell_type": "code",
   "execution_count": null,
   "metadata": {},
   "outputs": [],
   "source": [
    "print_every = 500\n",
    "step = 0"
   ]
  },
  {
   "cell_type": "code",
   "execution_count": null,
   "metadata": {},
   "outputs": [],
   "source": [
    "for epoch in range(epochs):\n",
    "    \n",
    "    for inputs, targets in get_batches(docs=docs, batch_size=32, window_size=4):\n",
    "        step+=1\n",
    "        inputs, targets = torch.LongTensor(inputs).to(device), torch.LongTensor(targets).to(device)\n",
    "        outputs = model(inputs)\n",
    "        loss = criterion(outputs, targets)\n",
    "        optimizer.zero_grad()\n",
    "        loss.backward()\n",
    "        optimizer.step()\n",
    "        \n",
    "        if step % print_every == 0:\n",
    "            val_examples , similarities = cosine_similarity(model.embedding, device=device)\n",
    "            _,topids = similarities.topk(5)\n",
    "            val_examples, topids = val_examples.to('cpu'), topids.to('cpu')\n",
    "            for idx, ex in enumerate(val_examples):\n",
    "                #print(idx)\n",
    "                #print([x.item() for x in topids[idx]])\n",
    "                words = [int_to_vocab[ii] for ii in [x.item() for x in topids[idx]]]\n",
    "                #print(words)\n",
    "                print(int_to_vocab[ex.item()] + \" | \" + ' '.join(words) + '\\n')\n",
    "            print(\"******\")"
   ]
  },
  {
   "cell_type": "code",
   "execution_count": null,
   "metadata": {},
   "outputs": [],
   "source": []
  },
  {
   "cell_type": "code",
   "execution_count": null,
   "metadata": {},
   "outputs": [],
   "source": []
  }
 ],
 "metadata": {
  "kernelspec": {
   "display_name": "Python 3",
   "language": "python",
   "name": "python3"
  },
  "language_info": {
   "codemirror_mode": {
    "name": "ipython",
    "version": 3
   },
   "file_extension": ".py",
   "mimetype": "text/x-python",
   "name": "python",
   "nbconvert_exporter": "python",
   "pygments_lexer": "ipython3",
   "version": "3.6.8"
  }
 },
 "nbformat": 4,
 "nbformat_minor": 4
}

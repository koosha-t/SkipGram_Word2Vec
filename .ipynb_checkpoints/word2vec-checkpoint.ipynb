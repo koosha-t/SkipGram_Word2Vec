{
 "cells": [
  {
   "cell_type": "markdown",
   "metadata": {},
   "source": [
    "### Reading Data"
   ]
  },
  {
   "cell_type": "code",
   "execution_count": 288,
   "metadata": {},
   "outputs": [],
   "source": [
    "import ndjson\n",
    "import numpy as np\n",
    "import random"
   ]
  },
  {
   "cell_type": "code",
   "execution_count": 7,
   "metadata": {},
   "outputs": [],
   "source": [
    "with open(\"data/Tools_and_Home_Improvement_5.json\") as f:\n",
    "    data = ndjson.load(f)"
   ]
  },
  {
   "cell_type": "code",
   "execution_count": 56,
   "metadata": {},
   "outputs": [
    {
     "data": {
      "text/plain": [
       "[{'overall': 5.0,\n",
       "  'verified': True,\n",
       "  'reviewTime': '01 28, 2018',\n",
       "  'reviewerID': 'AL19QO4XLBQPU',\n",
       "  'asin': '0982085028',\n",
       "  'style': {'Style:': ' 1) IR30 POU (30A/3.4kW/110v)'},\n",
       "  'reviewerName': 'J. Mollenkamp',\n",
       "  'reviewText': 'returned, decided against this product',\n",
       "  'summary': 'Five Stars',\n",
       "  'unixReviewTime': 1517097600},\n",
       " {'overall': 5.0,\n",
       "  'verified': True,\n",
       "  'reviewTime': '11 30, 2017',\n",
       "  'reviewerID': 'A1I7CVB7X3T81E',\n",
       "  'asin': '0982085028',\n",
       "  'style': {'Style:': ' 3) IR260 POU (30A/6kW/220v)'},\n",
       "  'reviewerName': 'warfam',\n",
       "  'reviewText': 'Awesome heater for the electrical requirements! Makes an awesome preheater for my talnkless system',\n",
       "  'summary': 'Five Stars',\n",
       "  'unixReviewTime': 1512000000}]"
      ]
     },
     "execution_count": 56,
     "metadata": {},
     "output_type": "execute_result"
    }
   ],
   "source": [
    "data[:2]"
   ]
  },
  {
   "cell_type": "code",
   "execution_count": 54,
   "metadata": {},
   "outputs": [
    {
     "data": {
      "text/plain": [
       "2070831"
      ]
     },
     "execution_count": 54,
     "metadata": {},
     "output_type": "execute_result"
    }
   ],
   "source": [
    "len(data)"
   ]
  },
  {
   "cell_type": "code",
   "execution_count": 243,
   "metadata": {},
   "outputs": [],
   "source": [
    "review_texts = [rev['reviewText'] for rev in data if 'reviewText' in rev.keys()]"
   ]
  },
  {
   "cell_type": "code",
   "execution_count": 244,
   "metadata": {},
   "outputs": [
    {
     "data": {
      "text/plain": [
       "2070309"
      ]
     },
     "execution_count": 244,
     "metadata": {},
     "output_type": "execute_result"
    }
   ],
   "source": [
    "len(review_texts)"
   ]
  },
  {
   "cell_type": "code",
   "execution_count": 219,
   "metadata": {},
   "outputs": [
    {
     "data": {
      "text/plain": [
       "['Good for overflow filter. Works good. White is easy to see how dirty it is. Like that fact. Works better than the course one, for catching finer particles. 100% satisfied. Will buy it again.',\n",
       " 'Super fast and easy to install.',\n",
       " 'I used these to hold the solar panel onto the roof of my cargo trailer.  It was a pretty straight forward installation and holds the solar panel in place nicely.',\n",
       " 'Was a little skeptical at first . a flow heater is a different creature than a tank but after a few lessons on how to get hot water I had to turn the beast down !  If it lasts with out service problems this will be the best buy of the year on Amazon . congrats to the designer',\n",
       " 'I bought this for my neighbor and he loves it. Came exactly as described, very sturdy.']"
      ]
     },
     "execution_count": 219,
     "metadata": {},
     "output_type": "execute_result"
    }
   ],
   "source": [
    "review_texts[10:15]"
   ]
  },
  {
   "cell_type": "code",
   "execution_count": 220,
   "metadata": {},
   "outputs": [
    {
     "data": {
      "text/plain": [
       "'Good for overflow filter. Works good. White is easy to see how dirty it is. Like that fact. Works better than the course one, for catching finer particles. 100% satisfied. Will buy it again. Super fast and easy to install. I used these to hold the solar panel onto the roof of my cargo trailer.  It was a pretty straight forward installation and holds the solar panel in place nicely. Was a little skeptical at first . a flow heater is a different creature than a tank but after a few lessons on how to get hot water I had to turn the beast down !  If it lasts with out service problems this will be the best buy of the year on Amazon . congrats to the designer I bought this for my neighbor and he loves it. Came exactly as described, very sturdy.'"
      ]
     },
     "execution_count": 220,
     "metadata": {},
     "output_type": "execute_result"
    }
   ],
   "source": [
    "' '.join(review_texts[10:15])"
   ]
  },
  {
   "cell_type": "markdown",
   "metadata": {},
   "source": [
    "### Text Preprocessing"
   ]
  },
  {
   "cell_type": "code",
   "execution_count": 58,
   "metadata": {},
   "outputs": [],
   "source": [
    "import re\n",
    "from collections import Counter"
   ]
  },
  {
   "cell_type": "code",
   "execution_count": 62,
   "metadata": {},
   "outputs": [
    {
     "name": "stdout",
     "output_type": "stream",
     "text": [
      "!\"#$%&'()*+,-./:;<=>?@[\\]^_`{|}~\n"
     ]
    }
   ],
   "source": [
    "import string\n",
    "print(string.punctuation)"
   ]
  },
  {
   "cell_type": "code",
   "execution_count": 226,
   "metadata": {},
   "outputs": [],
   "source": [
    "class TextPreProcessor:\n",
    "    def __init__(self, text):\n",
    "        \n",
    "        self.text = text.lower()\n",
    "        \n",
    "        #Replacing punctuations with tokens\n",
    "        self.text = self.text.replace('.', ' <PERIOD> ')\n",
    "        self.text = self.text.replace(',', ' <COMMA> ')\n",
    "        self.text = self.text.replace('\"', ' <QUOTATION_MARK> ')\n",
    "        self.text = self.text.replace(';', ' <SEMICOLON> ')\n",
    "        self.text = self.text.replace('!', ' <EXCLAMATION_MARK> ')\n",
    "        self.text = self.text.replace('?', ' <QUESTION_MARK> ')\n",
    "        self.text = self.text.replace('(', ' <LEFT_PAREN> ')\n",
    "        self.text = self.text.replace(')', ' <RIGHT_PAREN> ')\n",
    "        self.text = self.text.replace('--', ' <HYPHENS> ')\n",
    "        self.text = self.text.replace('?', ' <QUESTION_MARK> ')\n",
    "        self.text = self.text.replace(':', ' <COLON> ')\n",
    "        self.text = self.text.replace('%', ' <PERCENTAGE> ')\n",
    "        self.text = self.text.replace('#', ' <NUMBERSIGN> ')\n",
    "        \n",
    "        self.words = self.text.split()\n",
    "        self.word_counts = Counter(self.words)\n",
    "    \n",
    "        \n",
    "    def refine_words(self, min_occ):\n",
    "        return [word for word in self.words if self.word_counts[word] >= min_occ]\n",
    "    \n",
    "    def lookup_tables(self):\n",
    "        vocabs = sorted(self.word_counts, key=self.word_counts.get, reverse=True)\n",
    "        \n",
    "        int_to_vocab = {ii:vv for ii,vv in enumerate(vocabs)} \n",
    "        vocab_to_int = {vv:ii for ii,vv in int_to_vocab.items()}\n",
    "        \n",
    "        return int_to_vocab, vocab_to_int\n",
    "        "
   ]
  },
  {
   "cell_type": "code",
   "execution_count": 227,
   "metadata": {},
   "outputs": [],
   "source": [
    "tp = TextPreProcessor(' '.join(review_texts))\n",
    "int_to_vocab , vocab_to_int = tp.lookup_tables()"
   ]
  },
  {
   "cell_type": "code",
   "execution_count": 232,
   "metadata": {},
   "outputs": [
    {
     "data": {
      "text/plain": [
       "True"
      ]
     },
     "execution_count": 232,
     "metadata": {},
     "output_type": "execute_result"
    }
   ],
   "source": [
    "len(int_to_vocab) == len(vocab_to_int)"
   ]
  },
  {
   "cell_type": "code",
   "execution_count": 234,
   "metadata": {},
   "outputs": [
    {
     "data": {
      "text/plain": [
       "400363"
      ]
     },
     "execution_count": 234,
     "metadata": {},
     "output_type": "execute_result"
    }
   ],
   "source": [
    "len(int_to_vocab)"
   ]
  },
  {
   "cell_type": "code",
   "execution_count": 252,
   "metadata": {},
   "outputs": [],
   "source": [
    "processed_reviews = [TextPreProcessor(rev).text.split() for rev in review_texts]\n",
    "docs = [[vocab_to_int[v] for v in rev] for rev in processed_reviews]"
   ]
  },
  {
   "cell_type": "code",
   "execution_count": 254,
   "metadata": {},
   "outputs": [
    {
     "data": {
      "text/plain": [
       "[[804, 2, 567, 776, 11, 61],\n",
       " [362, 779, 10, 1, 722, 3682, 25, 215, 60, 362, 52125, 10, 15, 112873, 380],\n",
       " [733, 1, 5437, 9, 72, 308, 1014, 6, 14, 17, 0, 7062, 96, 0]]"
      ]
     },
     "execution_count": 254,
     "metadata": {},
     "output_type": "execute_result"
    }
   ],
   "source": [
    "docs[:3]"
   ]
  },
  {
   "cell_type": "markdown",
   "metadata": {},
   "source": [
    "### Making and Generating Batches"
   ]
  },
  {
   "cell_type": "code",
   "execution_count": 166,
   "metadata": {},
   "outputs": [],
   "source": [
    "def get_target(words, idx, max_window_size = 5):\n",
    "    window_size = np.random.randint(1, max_window_size+1)\n",
    "    start = idx - window_size if idx>= window_size else 0\n",
    "    stop = idx + window_size\n",
    "    targets = words[start:idx] + words[idx+1:stop+1]\n",
    "    return targets"
   ]
  },
  {
   "cell_type": "code",
   "execution_count": 255,
   "metadata": {},
   "outputs": [],
   "source": [
    "def get_batches(docs, batch_size = 32, window_size = 5):\n",
    "   \n",
    "    for doc in docs:\n",
    "        n_batch = len(doc) // batch_size\n",
    "        words = doc[:n_batch*batch_size]\n",
    "\n",
    "        for batch_id in range(n_batch):\n",
    "            x,y = [],[]\n",
    "            start = batch_id*batch_size\n",
    "            stop = start + batch_size\n",
    "            window = words[start:stop]\n",
    "            for idx in range(batch_size):\n",
    "                targets = get_target(window, idx, max_window_size=window_size)\n",
    "                y.extend(targets)\n",
    "                x.extend([window[idx]]*len(targets))\n",
    "            yield x,y"
   ]
  },
  {
   "cell_type": "code",
   "execution_count": 283,
   "metadata": {},
   "outputs": [],
   "source": [
    "int_text = [[i for i in range(20)],[j for j in range(30,40)]]"
   ]
  },
  {
   "cell_type": "code",
   "execution_count": 280,
   "metadata": {},
   "outputs": [],
   "source": [
    "batch_generator = get_batches(int_text, batch_size=6, window_size=5)"
   ]
  },
  {
   "cell_type": "code",
   "execution_count": 287,
   "metadata": {},
   "outputs": [
    {
     "name": "stdout",
     "output_type": "stream",
     "text": [
      "x\n",
      " [0, 0, 0, 0, 1, 1, 1, 1, 1, 2, 2, 3, 3, 3, 3, 3, 4, 4, 4, 5, 5, 5, 5]\n",
      "y\n",
      " [1, 2, 3, 4, 0, 2, 3, 4, 5, 1, 3, 0, 1, 2, 4, 5, 2, 3, 5, 1, 2, 3, 4]\n",
      "x\n",
      " [6, 7, 7, 7, 7, 7, 8, 8, 8, 8, 9, 9, 9, 9, 9, 10, 10, 11, 11, 11]\n",
      "y\n",
      " [7, 6, 8, 9, 10, 11, 6, 7, 9, 10, 6, 7, 8, 10, 11, 9, 11, 8, 9, 10]\n",
      "x\n",
      " [12, 12, 12, 13, 13, 14, 14, 14, 14, 14, 15, 15, 16, 16, 17, 17]\n",
      "y\n",
      " [13, 14, 15, 12, 14, 12, 13, 15, 16, 17, 14, 16, 15, 17, 15, 16]\n",
      "x\n",
      " [30, 30, 31, 31, 31, 32, 32, 33, 33, 33, 33, 33, 34, 34, 35, 35]\n",
      "y\n",
      " [31, 32, 30, 32, 33, 31, 33, 30, 31, 32, 34, 35, 33, 35, 33, 34]\n"
     ]
    }
   ],
   "source": [
    "for x,y in get_batches(int_text, batch_size=6, window_size=5):\n",
    "    print('x\\n',x)\n",
    "    print('y\\n',y)\n",
    "\n",
    "#while(next(batch_generator, None)):\n",
    "#    print('x\\n', x)\n",
    "#    print('y\\n', y)"
   ]
  },
  {
   "cell_type": "markdown",
   "metadata": {},
   "source": [
    "### Subsampling\n",
    "\n",
    "P(W(i)) = 1 - sqrt(t/f(w(i)))"
   ]
  },
  {
   "cell_type": "code",
   "execution_count": 278,
   "metadata": {},
   "outputs": [],
   "source": [
    "from collections import Counter\n",
    "import numpy as np\n",
    "\n",
    "def get_train_words(words, tr=1e-5):\n",
    "    words_count = Counter(words)\n",
    "    words_freq = {w:words_count[w]/len(words) for w in words}\n",
    "    discard_prob = {w:1-np.sqrt(tr/words_freq[w])}\n",
    "    \n",
    "    return [word for word in words if np.random.random() > discard_prob[word]]\n",
    "    "
   ]
  },
  {
   "cell_type": "code",
   "execution_count": null,
   "metadata": {},
   "outputs": [],
   "source": []
  },
  {
   "cell_type": "markdown",
   "metadata": {},
   "source": [
    "### Word-Embedding Model"
   ]
  },
  {
   "cell_type": "code",
   "execution_count": 216,
   "metadata": {},
   "outputs": [],
   "source": [
    "import torch\n",
    "from torch import nn\n",
    "from torch import optim\n",
    "import torch.nn.functional as F"
   ]
  },
  {
   "cell_type": "code",
   "execution_count": 218,
   "metadata": {},
   "outputs": [],
   "source": [
    "class Word2VevModel(nn.Module):\n",
    "    def __init__(self, n_vocab, emvec_size):\n",
    "        super().__init__()\n",
    "        self.n_vocab = n_vocab\n",
    "        self.emvec_size = emvec_size\n",
    "        \n",
    "        self.embedding = nn.Embedding(num_embeddings=n_vocab, embedding_dim=emvec_size)\n",
    "        self.outLayer = nn.Linear(emvec_size, n_vocab)\n",
    "        self.softmax = F.log_softmax(dim=1)\n",
    "        \n",
    "    def forward(self,x):\n",
    "        emVectors = self.embedding(x)\n",
    "        scores = self.outLayer(emVectors)\n",
    "        log_probs = self.softmax(scores)\n",
    "        \n",
    "        return log_probs\n",
    "        "
   ]
  },
  {
   "cell_type": "markdown",
   "metadata": {},
   "source": [
    "### Validation"
   ]
  },
  {
   "cell_type": "code",
   "execution_count": 297,
   "metadata": {},
   "outputs": [],
   "source": [
    "def cosine_similarity(embedding, val_size=32, cuda_available = False):\n",
    "    embed_vectors = embedding.weight\n",
    "    \n",
    "    magnitudes = embed_vectors.pow(2).sum(dim=1).sqrt()\n",
    "    \n",
    "    # pick N words from our ranges (0,window) and (1000,1000+window). lower id implies more frequent \n",
    "    val_examples = np.array(random.sample(range(100), val_size//2))\n",
    "    val_examples = np.append(val_examples, np.array(random.sample(1000,1100), val_size//2))\n",
    "    \n",
    "    val_examples = torch.LongTensor(val_examples)\n",
    "    \n",
    "    if cuda_available:\n",
    "        val_examples =  val_examples.cuda()\n",
    "    \n",
    "    val_vectors = embedding(val_examples)\n",
    "    \n",
    "    similarities = torch.mm(valid_vectors, embed_vectors.t()) / magnitudes\n",
    "    \n",
    "    return val_examples, similarities"
   ]
  },
  {
   "cell_type": "code",
   "execution_count": null,
   "metadata": {},
   "outputs": [],
   "source": []
  },
  {
   "cell_type": "code",
   "execution_count": null,
   "metadata": {},
   "outputs": [],
   "source": []
  }
 ],
 "metadata": {
  "kernelspec": {
   "display_name": "Python 3",
   "language": "python",
   "name": "python3"
  },
  "language_info": {
   "codemirror_mode": {
    "name": "ipython",
    "version": 3
   },
   "file_extension": ".py",
   "mimetype": "text/x-python",
   "name": "python",
   "nbconvert_exporter": "python",
   "pygments_lexer": "ipython3",
   "version": "3.8.3"
  }
 },
 "nbformat": 4,
 "nbformat_minor": 4
}
